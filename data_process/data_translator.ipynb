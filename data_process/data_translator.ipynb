{
 "cells": [
  {
   "cell_type": "code",
   "execution_count": 1,
   "metadata": {},
   "outputs": [],
   "source": [
    "import os\n",
    "import json\n",
    "import torch\n",
    "import numpy as np"
   ]
  },
  {
   "cell_type": "code",
   "execution_count": 2,
   "metadata": {},
   "outputs": [],
   "source": [
    "save_dir = '/home/kuba/Documents/Data/Datasets/Listerine'\n",
    "raw_data_dir = '/home/kuba/Documents/Data/Raw/Listerine/3_final'"
   ]
  },
  {
   "cell_type": "code",
   "execution_count": 3,
   "metadata": {},
   "outputs": [],
   "source": [
    "def get_first_line(path):\n",
    "    f = open(path)\n",
    "    first_line = int(f.readline().strip().split(':')[1])\n",
    "    return first_line"
   ]
  },
  {
   "cell_type": "code",
   "execution_count": 4,
   "metadata": {},
   "outputs": [],
   "source": [
    "def accumulator(dir):\n",
    "    acc = []\n",
    "    gyro = []\n",
    "    y = []\n",
    "\n",
    "    for recoding in sorted(os.listdir(dir)):\n",
    "        full_path = os.path.join(dir,recoding)\n",
    "        f = open(os.path.join(full_path,'labels.json'))\n",
    "        labels = json.load(f)\n",
    "        acc = np.loadtxt(os.path.join(full_path,'acceleration.csv'), delimiter=',', skiprows=2)\n",
    "        first_row_acc = get_first_line(os.path.join(full_path, 'acceleration.csv'))\n",
    "\n",
    "        gyro = np.loadtxt(os.path.join(full_path,'gyroscope.csv'), delimiter=',', skiprows=2)\n",
    "        first_row_gyro = get_first_line(os.path.join(full_path, 'gyroscope.csv'))\n",
    "\n",
    "        print(labels)\n",
    "    return None"
   ]
  },
  {
   "cell_type": "code",
   "execution_count": 5,
   "metadata": {},
   "outputs": [
    {
     "name": "stdout",
     "output_type": "stream",
     "text": [
      "{'left': {'water': [{'start': 264.177549657, 'end': 271.440904506}, {'start': 286.589171787, 'end': 292.13248422}, {'start': 305.895032415, 'end': 310.912581267}, {'start': 323.862755878, 'end': 330.122711421}, {'start': 341.734852775, 'end': 348.663799639}], 'listerine': [{'start': 460.674958177, 'end': 464.927945984}, {'start': 438.788777421, 'end': 447.055743197}, {'start': 423.688238933, 'end': 428.849187583}, {'start': 401.802088803, 'end': 406.963054263}]}, 'right': {'water': [{'start': 520.073630106, 'end': 525.616843438}, {'start': 538.806073659, 'end': 543.58472365}, {'start': 557.442868123, 'end': 561.4569712}, {'start': 577.369957625, 'end': 583.438893864}, {'start': 600.355363677, 'end': 606.280893407}], 'listerine': [{'start': 700.612287241, 'end': 704.721994333}, {'start': 686.849627303, 'end': 690.433693735}, {'start': 673.421534316, 'end': 676.957797449}, {'start': 643.65030809, 'end': 647.234337766}]}}\n",
      "{'left': {'water': [{'start': 256.021236493, 'end': 259.796473423}, {'start': 272.555764482, 'end': 275.805373117}, {'start': 289.281499909, 'end': 293.869229948}, {'start': 306.437451591, 'end': 311.120610349}, {'start': 324.262440615, 'end': 329.710328295}], 'listerine': [{'start': 183.527729758, 'end': 188.306378084}, {'start': 195.331160323, 'end': 200.300992436}]}, 'right': {'water': [{'start': 69.60398907, 'end': 73.187960691}, {'start': 83.605311324, 'end': 88.527283512}, {'start': 100.760730277, 'end': 104.010289195}, {'start': 115.096887856, 'end': 119.206555135}, {'start': 126.995805615, 'end': 131.487744726}, {'start': 141.427392596, 'end': 146.731705108}], 'listerine': [{'start': 342.230861816, 'end': 348.156610616}, {'start': 431.643821898, 'end': 436.996242714}, {'start': 363.783496885, 'end': 370.473891331}, {'start': 413.722839887, 'end': 420.270085051}]}}\n",
      "{'left': {'water': [{'start': 110.967888553, 'end': 114.16981319}, {'start': 124.396795129, 'end': 127.789782456}, {'start': 137.586664621, 'end': 139.73719109}], 'listerine': [{'start': 254.766739048, 'end': 260.692652796}, {'start': 234.838493437, 'end': 237.896984214}, {'start': 219.928095137, 'end': 222.030825863}, {'start': 201.720294778, 'end': 208.602054829}]}, 'right': {'water': [{'start': 319.617196643, 'end': 324.96965874}, {'start': 336.773585441, 'end': 340.357836194}, {'start': 354.121295816, 'end': 358.709078848}, {'start': 372.759285952, 'end': 377.394994122}], 'listerine': [{'start': 444.778617619, 'end': 449.270849597}, {'start': 426.331754527, 'end': 432.544376588}]}}\n",
      "{'left': {'water': [{'start': 31.123187646, 'end': 35.518815811}, {'start': 50.855734614, 'end': 57.497111619}, {'start': 77.755608994, 'end': 84.014750763}, {'start': 99.256527851, 'end': 104.703560486}, {'start': 120.18453437, 'end': 127.160474159}, {'start': 142.307196048, 'end': 148.423229079}], 'listerine': [{'start': 308.974681542, 'end': 314.374389119}, {'start': 326.70285535, 'end': 330.716794627}, {'start': 344.335549591, 'end': 349.448519426}, {'start': 362.685076691, 'end': 367.654672027}, {'start': 382.133647, 'end': 386.768963621}, {'start': 988.847559629, 'end': 992.240457399}, {'start': 976.37469769, 'end': 980.245502888}, {'start': 963.997321373, 'end': 967.581511962}, {'start': 953.627186404, 'end': 958.262765271}, {'start': 942.540227544, 'end': 948.131465386}]}, 'right': {'water': [{'start': 611.510823256, 'end': 616.146197415}, {'start': 629.383467179, 'end': 634.353368986}, {'start': 645.583539551, 'end': 649.454401465}, {'start': 662.261526646, 'end': 666.61021783}, {'start': 681.902342044, 'end': 687.015673894}], 'listerine': []}}\n",
      "{'left': {'water': [{'start': 23.350278803, 'end': 27.555775244}, {'start': 40.363219221, 'end': 43.46957559}, {'start': 54.078707156, 'end': 57.328412963}, {'start': 68.558741083, 'end': 72.907550233}, {'start': 84.711433959, 'end': 89.203597514}], 'listerine': [{'start': 143.444211986, 'end': 153.049700224}, {'start': 129.728770044, 'end': 135.176573607}, {'start': 113.862829617, 'end': 119.932014982}]}, 'right': {'water': [{'start': 247.002984777, 'end': 250.921710865}, {'start': 262.725642521, 'end': 267.217794439}, {'start': 279.308450041, 'end': 282.749295253}, {'start': 294.314309258, 'end': 298.71092226}, {'start': 311.327219389, 'end': 317.109742077}], 'listerine': [{'start': 370.681521921, 'end': 375.173658306}, {'start': 349.510813401, 'end': 353.525110816}, {'start': 337.611305488, 'end': 342.581410535}, {'start': 325.42500375, 'end': 329.487112093}]}}\n",
      "{'left': {'water': [{'start': 55.983696074, 'end': 60.953185435}, {'start': 72.277760256, 'end': 76.769334475}, {'start': 89.384080883, 'end': 92.633405923}, {'start': 105.009320439, 'end': 108.449767675}, {'start': 117.098610447, 'end': 121.016861094}], 'listerine': [{'start': 186.481383566, 'end': 190.495386378}, {'start': 154.704741298, 'end': 157.810686815}, {'start': 145.673437239, 'end': 149.066189333}]}, 'right': {'water': [{'start': 273.689970324, 'end': 277.36950445}, {'start': 261.886847488, 'end': 264.562775728}, {'start': 249.892560236, 'end': 252.616314509}, {'start': 240.335394699, 'end': 244.301639412}], 'listerine': [{'start': 371.748708535, 'end': 377.053027349}, {'start': 362.382283707, 'end': 365.584091635}, {'start': 350.244307341, 'end': 353.207066111}, {'start': 339.014289648, 'end': 342.693891728}]}}\n",
      "{'left': {'water': [{'start': 24.348252744, 'end': 27.836196072}, {'start': 81.829114247, 'end': 88.279675257}, {'start': 68.689026687, 'end': 74.661758858}, {'start': 41.31029441, 'end': 44.84609004}, {'start': 58.750411286, 'end': 63.719775828}], 'listerine': [{'start': 213.711308544, 'end': 217.773016086}, {'start': 197.369009102, 'end': 202.720880054}, {'start': 183.177090418, 'end': 188.48115261}, {'start': 151.448587382, 'end': 155.557979554}]}, 'right': {'water': [{'start': 273.538401444, 'end': 278.221498879}, {'start': 291.553695684, 'end': 297.526945432}, {'start': 313.391999201, 'end': 317.549349355}, {'start': 332.841089763, 'end': 336.998518197}, {'start': 351.573421155, 'end': 356.065357193}], 'listerine': [{'start': 464.017017696, 'end': 467.362236295}, {'start': 454.555034361, 'end': 457.135652886}, {'start': 441.270115744, 'end': 444.997538833}, {'start': 427.88950017, 'end': 432.285953068}, {'start': 418.570915638, 'end': 422.154994569}]}}\n",
      "{'left': {'water': [{'start': 483.649746548, 'end': 489.909534372}, {'start': 507.016193102, 'end': 514.040562462}, {'start': 531.003997907, 'end': 535.83019118}, {'start': 551.121314329, 'end': 556.664339776}, {'start': 571.190846383, 'end': 576.256086723}], 'listerine': [{'start': 669.628007333, 'end': 673.785344353}, {'start': 650.179333893, 'end': 654.28890665}, {'start': 631.734339909, 'end': 635.796062771}, {'start': 611.712396147, 'end': 617.446598738}]}, 'right': {'water': [{'start': 772.748887842, 'end': 779.199924366}, {'start': 790.668448831, 'end': 794.634650489}, {'start': 820.200187075, 'end': 825.21774794}], 'listerine': [{'start': 843.376487692, 'end': 845.335724121}, {'start': 864.354602895, 'end': 868.081971854}, {'start': 879.789581855, 'end': 883.373622649}, {'start': 892.357396928, 'end': 899.238697122}, {'start': 911.089613768, 'end': 915.294948808}]}}\n",
      "{'left': {'water': [{'start': 33.620085449, 'end': 42.555419107}, {'start': 53.354278027, 'end': 61.09514007}, {'start': 72.515327269, 'end': 79.396060129}, {'start': 100.038552448, 'end': 104.100134118}], 'listerine': [{'start': 133.391401684, 'end': 136.449600172}, {'start': 190.541039319, 'end': 194.220408805}, {'start': 167.604620334, 'end': 172.096395849}, {'start': 205.927446204, 'end': 211.470405734}]}, 'right': {'water': [{'start': 317.12256516, 'end': 322.474535636}, {'start': 336.71450082, 'end': 340.059443221}, {'start': 352.53152748, 'end': 357.118913466}, {'start': 370.546606027, 'end': 375.707503426}], 'listerine': [{'start': 477.157625288, 'end': 482.366278862}, {'start': 463.729573848, 'end': 467.600281832}, {'start': 447.816682748, 'end': 452.117452471}]}}\n"
     ]
    },
    {
     "ename": "TypeError",
     "evalue": "cannot unpack non-iterable NoneType object",
     "output_type": "error",
     "traceback": [
      "\u001b[0;31m---------------------------------------------------------------------------\u001b[0m",
      "\u001b[0;31mTypeError\u001b[0m                                 Traceback (most recent call last)",
      "Cell \u001b[0;32mIn[5], line 3\u001b[0m\n\u001b[1;32m      1\u001b[0m \u001b[38;5;28;01mfor\u001b[39;00m \u001b[38;5;28mdir\u001b[39m \u001b[38;5;129;01min\u001b[39;00m \u001b[38;5;28msorted\u001b[39m(os\u001b[38;5;241m.\u001b[39mlistdir(raw_data_dir)):\n\u001b[1;32m      2\u001b[0m     \u001b[38;5;28;01mif\u001b[39;00m \u001b[38;5;28mdir\u001b[39m \u001b[38;5;241m!=\u001b[39m \u001b[38;5;124m'\u001b[39m\u001b[38;5;124m.DS_Store\u001b[39m\u001b[38;5;124m'\u001b[39m:\n\u001b[0;32m----> 3\u001b[0m         X_acc, X_gyro, y \u001b[38;5;241m=\u001b[39m accumulator(os\u001b[38;5;241m.\u001b[39mpath\u001b[38;5;241m.\u001b[39mjoin(raw_data_dir,\u001b[38;5;28mdir\u001b[39m))\n\u001b[1;32m      4\u001b[0m     \u001b[38;5;66;03m#torch sve\u001b[39;00m\n",
      "\u001b[0;31mTypeError\u001b[0m: cannot unpack non-iterable NoneType object"
     ]
    }
   ],
   "source": [
    "for dir in sorted(os.listdir(raw_data_dir)):\n",
    "    if dir != '.DS_Store':\n",
    "        X_acc, X_gyro, y = accumulator(os.path.join(raw_data_dir,dir))\n",
    "    #torch sve"
   ]
  }
 ],
 "metadata": {
  "kernelspec": {
   "display_name": "base",
   "language": "python",
   "name": "python3"
  },
  "language_info": {
   "codemirror_mode": {
    "name": "ipython",
    "version": 3
   },
   "file_extension": ".py",
   "mimetype": "text/x-python",
   "name": "python",
   "nbconvert_exporter": "python",
   "pygments_lexer": "ipython3",
   "version": "3.12.3"
  }
 },
 "nbformat": 4,
 "nbformat_minor": 2
}
