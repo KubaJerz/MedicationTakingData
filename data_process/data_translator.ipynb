{
 "cells": [
  {
   "cell_type": "code",
   "execution_count": 168,
   "metadata": {},
   "outputs": [],
   "source": [
    "import os\n",
    "import json\n",
    "import torch\n",
    "import numpy as np\n",
    "import pandas as pd"
   ]
  },
  {
   "cell_type": "code",
   "execution_count": 169,
   "metadata": {},
   "outputs": [],
   "source": [
    "save_dir = '/home/kuba/Documents/Data/Datasets/Listerine'\n",
    "raw_data_dir = '/home/kuba/Documents/Data/Raw/Listerine/3_final'\n",
    "\n",
    "labels_to_one_hot = {\n",
    "    'leftWater' : [[0],[0],[0],[1]],\n",
    "    'leftLister' : [[0],[0],[1],[0]],\n",
    "    'rightWater' : [[0],[1],[0],[0]],\n",
    "    'rightLister' : [[1],[0],[0],[0]]\n",
    "\n",
    "}\n",
    "\n",
    "label_mapping = [\n",
    "    ('left', 'water', 'leftWater'),\n",
    "    ('left', 'listerine', 'leftLister'),\n",
    "    ('right', 'water', 'rightWater'),\n",
    "    ('right', 'listerine', 'rightLister')\n",
    "]"
   ]
  },
  {
   "cell_type": "code",
   "execution_count": null,
   "metadata": {},
   "outputs": [],
   "source": []
  },
  {
   "cell_type": "code",
   "execution_count": 170,
   "metadata": {},
   "outputs": [],
   "source": [
    "def get_first_line(path):\n",
    "    f = open(path)\n",
    "    first_line = int(f.readline().strip().split(':')[1])\n",
    "    return first_line"
   ]
  },
  {
   "cell_type": "code",
   "execution_count": 171,
   "metadata": {},
   "outputs": [],
   "source": [
    "def separator(acc, gyro, labels):\n",
    "    # Splits accelerometer and gyroscope data into segments based on activity labels\n",
    "    # Returns lists of these data segments and their labels\n",
    "    acc_bouts, gyro_bouts, y = [], [], []\n",
    "    \n",
    "    for side, liquid, label_key in label_mapping:\n",
    "        for label in labels[side][liquid]:\n",
    "            new_acc = [(acc.timestamp > label['start']) & (acc.timestamp < label['end'])]  \n",
    "            acc_bouts.append(new_acc)\n",
    "            \n",
    "            new_gyro = [(gyro.timestamp > label['start']) & (gyro.timestamp < label['end'])]  \n",
    "            gyro_bouts.append(new_gyro)\n",
    "            \n",
    "            y.append(labels_to_one_hot[label_key])\n",
    "    \n",
    "    return acc_bouts, gyro_bouts, y"
   ]
  },
  {
   "cell_type": "code",
   "execution_count": 172,
   "metadata": {},
   "outputs": [],
   "source": [
    "def accumulator(dir):\n",
    "    acc_full = []\n",
    "    gyro_full = []\n",
    "    y_full = []\n",
    "\n",
    "    for recoding in sorted(os.listdir(dir)):\n",
    "        full_path = os.path.join(dir,recoding)\n",
    "        f = open(os.path.join(full_path,'labels.json'))\n",
    "        labels = json.load(f)\n",
    "        acc = pd.read_csv(os.path.join(full_path,'acceleration.csv'), skiprows=1)\n",
    "        acc['timestamp']  = (acc['timestamp'] - acc['timestamp'].iloc[0]) * 1e-9 #subtract the start to get first time to be zero then convert from nano to sec\n",
    "        #first_row_acc = get_first_line(os.path.join(full_path, 'acceleration.csv'))\n",
    "\n",
    "        gyro = pd.read_csv(os.path.join(full_path,'gyroscope.csv'), skiprows=1)\n",
    "        gyro['timestamp']  = (gyro['timestamp'] - gyro['timestamp'].iloc[0]) * 1e-9 #subtract the start to get first time to be zero then convert from nano to sec\n",
    "        #first_row_gyro = get_first_line(os.path.join(full_path, 'gyroscope.csv'))\n",
    "        # print(labels)\n",
    "\n",
    "\n",
    "        acc, gyro, y = separator(acc, gyro, labels)\n",
    "        acc_full.append(acc)\n",
    "        gyro_full.append(gyro)\n",
    "        y_full.append(y)\n",
    "        \n",
    "    print('here')\n",
    "    return torch.tensor(acc_full), torch.tensor(gyro_full), torch.tensor(y_full)"
   ]
  },
  {
   "cell_type": "code",
   "execution_count": 173,
   "metadata": {},
   "outputs": [
    {
     "name": "stdout",
     "output_type": "stream",
     "text": [
      "here\n"
     ]
    },
    {
     "ename": "ValueError",
     "evalue": "expected sequence of length 18 at dim 1 (got 17)",
     "output_type": "error",
     "traceback": [
      "\u001b[0;31m---------------------------------------------------------------------------\u001b[0m",
      "\u001b[0;31mValueError\u001b[0m                                Traceback (most recent call last)",
      "Cell \u001b[0;32mIn[173], line 3\u001b[0m\n\u001b[1;32m      1\u001b[0m \u001b[38;5;28;01mfor\u001b[39;00m \u001b[38;5;28mdir\u001b[39m \u001b[38;5;129;01min\u001b[39;00m \u001b[38;5;28msorted\u001b[39m(os\u001b[38;5;241m.\u001b[39mlistdir(raw_data_dir)):\n\u001b[1;32m      2\u001b[0m     \u001b[38;5;28;01mif\u001b[39;00m \u001b[38;5;28mdir\u001b[39m \u001b[38;5;241m!=\u001b[39m \u001b[38;5;124m'\u001b[39m\u001b[38;5;124m.DS_Store\u001b[39m\u001b[38;5;124m'\u001b[39m:\n\u001b[0;32m----> 3\u001b[0m         X_acc, X_gyro, y \u001b[38;5;241m=\u001b[39m \u001b[43maccumulator\u001b[49m\u001b[43m(\u001b[49m\u001b[43mos\u001b[49m\u001b[38;5;241;43m.\u001b[39;49m\u001b[43mpath\u001b[49m\u001b[38;5;241;43m.\u001b[39;49m\u001b[43mjoin\u001b[49m\u001b[43m(\u001b[49m\u001b[43mraw_data_dir\u001b[49m\u001b[43m,\u001b[49m\u001b[38;5;28;43mdir\u001b[39;49m\u001b[43m)\u001b[49m\u001b[43m)\u001b[49m\n\u001b[1;32m      4\u001b[0m         \u001b[38;5;28mprint\u001b[39m(\u001b[38;5;124m'\u001b[39m\u001b[38;5;124mhi\u001b[39m\u001b[38;5;124m'\u001b[39m)\n\u001b[1;32m      5\u001b[0m         \u001b[38;5;28mprint\u001b[39m(\u001b[38;5;124mf\u001b[39m\u001b[38;5;124m'\u001b[39m\u001b[38;5;124macc shape: \u001b[39m\u001b[38;5;132;01m{\u001b[39;00mX_acc\u001b[38;5;241m.\u001b[39mshape\u001b[38;5;132;01m}\u001b[39;00m\u001b[38;5;124m X gyro shape: \u001b[39m\u001b[38;5;132;01m{\u001b[39;00mX_gyro\u001b[38;5;241m.\u001b[39mshape\u001b[38;5;132;01m}\u001b[39;00m\u001b[38;5;124m y shpae: \u001b[39m\u001b[38;5;132;01m{\u001b[39;00my\u001b[38;5;241m.\u001b[39mshape\u001b[38;5;132;01m}\u001b[39;00m\u001b[38;5;124m'\u001b[39m)\n",
      "Cell \u001b[0;32mIn[172], line 26\u001b[0m, in \u001b[0;36maccumulator\u001b[0;34m(dir)\u001b[0m\n\u001b[1;32m     23\u001b[0m     y_full\u001b[38;5;241m.\u001b[39mappend(y)\n\u001b[1;32m     25\u001b[0m \u001b[38;5;28mprint\u001b[39m(\u001b[38;5;124m'\u001b[39m\u001b[38;5;124mhere\u001b[39m\u001b[38;5;124m'\u001b[39m)\n\u001b[0;32m---> 26\u001b[0m \u001b[38;5;28;01mreturn\u001b[39;00m \u001b[43mtorch\u001b[49m\u001b[38;5;241;43m.\u001b[39;49m\u001b[43mtensor\u001b[49m\u001b[43m(\u001b[49m\u001b[43macc_full\u001b[49m\u001b[43m)\u001b[49m, torch\u001b[38;5;241m.\u001b[39mtensor(gyro_full), torch\u001b[38;5;241m.\u001b[39mtensor(y_full)\n",
      "\u001b[0;31mValueError\u001b[0m: expected sequence of length 18 at dim 1 (got 17)"
     ]
    }
   ],
   "source": [
    "for dir in sorted(os.listdir(raw_data_dir)):\n",
    "    if dir != '.DS_Store':\n",
    "        X_acc, X_gyro, y = accumulator(os.path.join(raw_data_dir,dir))\n",
    "        print('hi')\n",
    "        print(f'acc shape: {X_acc.shape} X gyro shape: {X_gyro.shape} y shpae: {y.shape}')\n",
    "    #torch sve"
   ]
  }
 ],
 "metadata": {
  "kernelspec": {
   "display_name": "base",
   "language": "python",
   "name": "python3"
  },
  "language_info": {
   "codemirror_mode": {
    "name": "ipython",
    "version": 3
   },
   "file_extension": ".py",
   "mimetype": "text/x-python",
   "name": "python",
   "nbconvert_exporter": "python",
   "pygments_lexer": "ipython3",
   "version": "3.12.3"
  }
 },
 "nbformat": 4,
 "nbformat_minor": 2
}
