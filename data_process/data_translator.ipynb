{
 "cells": [
  {
   "cell_type": "code",
   "execution_count": null,
   "metadata": {},
   "outputs": [],
   "source": [
    "import os\n",
    "import json\n",
    "import torch\n",
    "import numpy as np\n",
    "import pandas as pd\n",
    "import matplotlib.pyplot as plt\n",
    "import scipy.stats as stats\n",
    "import seaborn as sns"
   ]
  },
  {
   "cell_type": "code",
   "execution_count": 29,
   "metadata": {},
   "outputs": [
    {
     "data": {
      "text/plain": [
       "7136"
      ]
     },
     "execution_count": 29,
     "metadata": {},
     "output_type": "execute_result"
    }
   ],
   "source": [
    "len(train)"
   ]
  },
  {
   "cell_type": "code",
   "execution_count": 30,
   "metadata": {},
   "outputs": [
    {
     "data": {
      "text/plain": [
       "3820"
      ]
     },
     "execution_count": 30,
     "metadata": {},
     "output_type": "execute_result"
    }
   ],
   "source": [
    "len(test)"
   ]
  },
  {
   "cell_type": "markdown",
   "metadata": {},
   "source": [
    "Vocabluary\n",
    "\n",
    "- ``` 'bout' ```: A complete sequence of medication-taking actions, varying in length.\n",
    "- ``` 'window' ```: A subsection of time with length 'window_len', sampled from the bout.\n",
    "- ``` 'stride' ```: The step size used to move to the right within the bout after sampling the first window.\n",
    "- ``` 'flatten (bool)' ```: If True, each window’s x, y, and z values are combined into a single long array. \n",
    "  If False, each window is a ``` 3 x window_size ``` array with separate arrays for x, y, and z.\n",
    "\"\"\""
   ]
  },
  {
   "cell_type": "code",
   "execution_count": null,
   "metadata": {},
   "outputs": [],
   "source": [
    "save_dir = '/home/kuba/Documents/Data/Datasets/Listerine'\n",
    "raw_data_dir = '/home/kuba/Documents/Data/Raw/Listerine/3_final'\n",
    "\n",
    "window_size = 300\n",
    "stride = 50\n",
    "flatten = True\n",
    "\n",
    "#if 4 classes\n",
    "labels_to_one_hot = {\n",
    "    'leftWater' : [[0],[0],[0],[1]],\n",
    "    'leftLister' : [[0],[0],[1],[0]],\n",
    "    'rightWater' : [[0],[1],[0],[0]],\n",
    "    'rightLister' : [[1],[0],[0],[0]]\n",
    "\n",
    "}\n",
    "\n",
    "\n",
    "#if 2 classes\n",
    "labels_to_one_hot = {\n",
    "    'leftWater' : [0],\n",
    "    'leftLister' : [1],\n",
    "    'rightWater' : [0],\n",
    "    'rightLister' : [1]\n",
    "\n",
    "}\n",
    "\n",
    "label_mapping = [\n",
    "    ('left', 'water', 'leftWater'),\n",
    "    ('left', 'listerine', 'leftLister'),\n",
    "    ('right', 'water', 'rightWater'),\n",
    "    ('right', 'listerine', 'rightLister')\n",
    "]"
   ]
  },
  {
   "cell_type": "code",
   "execution_count": null,
   "metadata": {},
   "outputs": [],
   "source": [
    "def get_first_line(path):\n",
    "    f = open(path)\n",
    "    first_line = int(f.readline().strip().split(':')[1])\n",
    "    return first_line"
   ]
  },
  {
   "cell_type": "code",
   "execution_count": null,
   "metadata": {},
   "outputs": [],
   "source": [
    "def window_maker(data, window_size, stride, flatten):\n",
    "    #flatten (bool): If True it combines x,y,z data into single list\n",
    "    res = []\n",
    "    if flatten:\n",
    "        # make windows\n",
    "        for i in range(0, len(data['x'].tolist()) - window_size + 1, stride):\n",
    "            combined = []\n",
    "            combined.extend(data['x'][i:i + window_size].tolist())\n",
    "            combined.extend(data['y'][i:i + window_size].tolist())\n",
    "            combined.extend(data['z'][i:i + window_size].tolist())\n",
    "            res.append(combined)\n",
    "    else:\n",
    "        for i in range(0, len(data['x'].tolist()) - window_size + 1, stride):\n",
    "            combined = []\n",
    "            combined.append(data['x'][i:i + window_size].tolist())\n",
    "            combined.append(data['y'][i:i + window_size].tolist())\n",
    "            combined.append(data['z'][i:i + window_size].tolist())\n",
    "            res.append(combined)\n",
    "    return res"
   ]
  },
  {
   "cell_type": "code",
   "execution_count": null,
   "metadata": {},
   "outputs": [],
   "source": [
    "def recording_accumulator(acc, gyro, labels, window_size, stride, flatten):\n",
    "    # Splits accelerometer and gyroscope data into segments based on activity labels\n",
    "    # Returns lists of these data segments and their labels\n",
    "    acc_bouts, gyro_bouts, y = [], [], []\n",
    "    \n",
    "    for side, liquid, label_key in label_mapping:\n",
    "        if side in labels and liquid in labels[side]:\n",
    "            for label in labels[side][liquid]:\n",
    "                new_acc = acc[(acc.timestamp > label['start']) & (acc.timestamp < label['end'])]\n",
    "                new_gyro = gyro[(gyro.timestamp > label['start']) & (gyro.timestamp < label['end'])]  \n",
    "\n",
    "                if len(new_acc) >= window_size: #check if we can even get one window out of the bout of activity\n",
    "                    bouts_windows_acc = window_maker(new_acc, window_size, stride, flatten)#all the windows for a given bout\n",
    "                    bouts_windows_gyro = window_maker(new_gyro, window_size, stride, flatten)\n",
    "\n",
    "                    if len(bouts_windows_gyro) != len(bouts_windows_acc):\n",
    "                        #print(f'ERROR: gyro {len(bouts_windows_gyro)} acc {len(bouts_windows_acc)}')\n",
    "                        bouts_windows_gyro = bouts_windows_gyro[:-1]\n",
    "                        #print(f'fixed so: gyro {len(bouts_windows_gyro)} acc {len(bouts_windows_acc)}')\n",
    "\n",
    "\n",
    "                    acc_bouts.extend(bouts_windows_acc)\n",
    "                    gyro_bouts.extend(bouts_windows_gyro)\n",
    "                \n",
    "                    y.extend([labels_to_one_hot[label_key]] * len(bouts_windows_acc))\n",
    "    \n",
    "    return acc_bouts, gyro_bouts, y"
   ]
  },
  {
   "cell_type": "code",
   "execution_count": null,
   "metadata": {},
   "outputs": [],
   "source": [
    "def participant_accumulator(dir, window_size, stride, flatten):\n",
    "    acc_full = []\n",
    "    gyro_full = []\n",
    "    y_full = []\n",
    "\n",
    "    for recoding in sorted(os.listdir(dir)):\n",
    "        if recoding != '.DS_Store':\n",
    "            full_path = os.path.join(dir,recoding)\n",
    "            f = open(os.path.join(full_path,'labels.json'))\n",
    "            labels = json.load(f)\n",
    "            acc = pd.read_csv(os.path.join(full_path,'acceleration.csv'), skiprows=1)\n",
    "            acc['timestamp']  = (acc['timestamp'] - acc['timestamp'].iloc[0]) * 1e-9 #subtract the start to get first time to be zero then convert from nano to sec\n",
    "            #first_row_acc = get_first_line(os.path.join(full_path, 'acceleration.csv'))\n",
    "\n",
    "            gyro = pd.read_csv(os.path.join(full_path,'gyroscope.csv'), skiprows=1)\n",
    "            gyro['timestamp']  = (gyro['timestamp'] - gyro['timestamp'].iloc[0]) * 1e-9 #subtract the start to get first time to be zero then convert from nano to sec\n",
    "            #first_row_gyro = get_first_line(os.path.join(full_path, 'gyroscope.csv'))\n",
    "            # print(labels)\n",
    "\n",
    "\n",
    "            acc, gyro, y = recording_accumulator(acc, gyro, labels, window_size, stride, flatten)\n",
    "            acc_full.extend(acc)\n",
    "            gyro_full.extend(gyro)\n",
    "            y_full.extend(y)\n",
    "        \n",
    "    return acc_full, gyro_full, y_full"
   ]
  },
  {
   "cell_type": "code",
   "execution_count": null,
   "metadata": {},
   "outputs": [],
   "source": [
    "def validate(X_acc, X_gyro, y):\n",
    "    print(f\"X_acc shape: {len(X_acc)}x{len(X_acc[0])}\")\n",
    "    print(f\"X_gyro shape: {len(X_gyro)}x{len(X_gyro[0])}\")\n",
    "    print(f\"y shape: {len(y)}\")\n",
    "\n",
    "\n",
    "    X_acc = torch.tensor(X_acc)\n",
    "    X_gyro =torch.tensor(X_gyro)\n",
    "    y = torch.tensor(y)\n",
    "    print(f'acc shape: {X_acc.shape} X gyro shape: {X_gyro.shape} y shpae: {y.shape}')\n",
    "    "
   ]
  },
  {
   "cell_type": "markdown",
   "metadata": {},
   "source": [
    "In the below block is where we would go through and save for each person, but this is just test code that we will use this code we built out in the data builder in the code"
   ]
  },
  {
   "cell_type": "code",
   "execution_count": null,
   "metadata": {},
   "outputs": [],
   "source": [
    "for dir in sorted(os.listdir(raw_data_dir)):\n",
    "    if dir != '.DS_Store':\n",
    "        print(f'{dir}')\n",
    "        X_acc, X_gyro, y = participant_accumulator(os.path.join(raw_data_dir,dir), window_size, stride, flatten)\n",
    "        validate(X_acc, X_gyro, y)\n",
    "        break\n",
    "    '''\n",
    "    THIS HERE\n",
    "    '''\n",
    "        "
   ]
  },
  {
   "cell_type": "markdown",
   "metadata": {},
   "source": [
    "---\n",
    "Now lets find out the distribution of the lengths of each bout. "
   ]
  },
  {
   "cell_type": "code",
   "execution_count": null,
   "metadata": {},
   "outputs": [],
   "source": [
    "def label_len_calc(dir):\n",
    "    water_lens = []\n",
    "    lister_lens = []\n",
    "\n",
    "    for recoding in sorted(os.listdir(dir)):\n",
    "        if recoding != '.DS_Store':\n",
    "            full_path = os.path.join(dir,recoding)\n",
    "            f = open(os.path.join(full_path,'labels.json'))\n",
    "            labels = json.load(f)\n",
    "\n",
    "            #for each person recodings\n",
    "            for side, liquid, label_key in label_mapping:\n",
    "                if side in labels and liquid in labels[side]:\n",
    "                    for label in labels[side][liquid]:\n",
    "                        if liquid == 'water':\n",
    "                            water_lens.append(label['end'] - label['start'])\n",
    "                        else:\n",
    "                            lister_lens.append(label['end'] - label['start'])\n",
    "\n",
    "    return water_lens, lister_lens\n",
    "\n",
    "full_water_lens = []\n",
    "full_lister_lens = []\n",
    "\n",
    "for dir in sorted(os.listdir(raw_data_dir)):\n",
    "    if dir != '.DS_Store':\n",
    "        water_lens, lister_lens = label_len_calc(os.path.join(raw_data_dir,dir))\n",
    "        full_water_lens.extend(water_lens)\n",
    "        full_lister_lens.extend(lister_lens)\n"
   ]
  },
  {
   "cell_type": "code",
   "execution_count": null,
   "metadata": {},
   "outputs": [],
   "source": [
    "def remove_outliers(data, thresh=5.5):\n",
    "    data = np.array(data).ravel()\n",
    "    median = np.median(data)\n",
    "    \n",
    "    diff = np.abs(data - median)\n",
    "    mad = np.median(diff)\n",
    "    modified_z_score = 0.6745 * diff / mad\n",
    "    mask = modified_z_score <= thresh\n",
    "    \n",
    "    return data[mask]"
   ]
  },
  {
   "cell_type": "code",
   "execution_count": null,
   "metadata": {},
   "outputs": [],
   "source": [
    "#remove outliers\n",
    "full_water_lens = remove_outliers(full_water_lens)\n",
    "full_lister_lens = remove_outliers(full_lister_lens)"
   ]
  },
  {
   "cell_type": "code",
   "execution_count": null,
   "metadata": {},
   "outputs": [],
   "source": [
    "bin_num = 20  # Increased bins for better resolution\n",
    "titles = ['Water Lens Distribution', 'Lister Lens Distribution']\n",
    "data_sets = [full_water_lens, full_lister_lens]\n",
    "\n",
    "fig, axs = plt.subplots(2, 1, figsize=(15, 15))\n",
    "\n",
    "for i, (ax, data, title) in enumerate(zip(axs, data_sets, titles)):\n",
    "    mean = np.mean(data)\n",
    "    median = np.median(data)\n",
    "    std = np.std(data)\n",
    "\n",
    "    ax.hist(data, bins=bin_num, density=True)\n",
    "    sns.kdeplot(data, color='r', ax=ax)\n",
    "    ax.axvline(mean, color='red', linestyle='--', label=f'Mean: {mean:.2f}')\n",
    "    ax.axvline(median, color='orange', linestyle='--', label=f'Median: {median:.2f}')\n",
    "\n",
    "    ax.set_xticks([0,1,2,3,4,5,6,7,8,9,10,11,12]) \n",
    "\n",
    "    ax.set_title(title, fontsize=14, pad=20)\n",
    "    ax.set_xlabel('Length (seconds)', fontsize=12)\n",
    "    ax.set_ylabel('Frequency', fontsize=12)\n",
    "    ax.grid(True, alpha=0.3)\n",
    "\n",
    "    ax.legend()\n",
    "\n",
    "\n",
    "plt.suptitle('Comparison of Water and Lister Lens Distributions', fontsize=16, y=1.02)\n",
    "plt.tight_layout()\n",
    "\n",
    "plt.show()"
   ]
  }
 ],
 "metadata": {
  "kernelspec": {
   "display_name": "base",
   "language": "python",
   "name": "python3"
  },
  "language_info": {
   "codemirror_mode": {
    "name": "ipython",
    "version": 3
   },
   "file_extension": ".py",
   "mimetype": "text/x-python",
   "name": "python",
   "nbconvert_exporter": "python",
   "pygments_lexer": "ipython3",
   "version": "3.12.3"
  }
 },
 "nbformat": 4,
 "nbformat_minor": 2
}
