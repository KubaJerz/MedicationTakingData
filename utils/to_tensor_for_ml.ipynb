{
 "cells": [
  {
   "cell_type": "code",
   "execution_count": 171,
   "metadata": {},
   "outputs": [],
   "source": [
    "import torch\n",
    "import os\n",
    "import json\n",
    "import pandas as pd\n",
    "import numpy as np"
   ]
  },
  {
   "cell_type": "code",
   "execution_count": 177,
   "metadata": {},
   "outputs": [
    {
     "ename": "NameError",
     "evalue": "name 'H' is not defined",
     "output_type": "error",
     "traceback": [
      "\u001b[0;31m---------------------------------------------------------------------------\u001b[0m",
      "\u001b[0;31mNameError\u001b[0m                                 Traceback (most recent call last)",
      "Cell \u001b[0;32mIn[177], line 6\u001b[0m\n\u001b[1;32m      3\u001b[0m TENSOR_DIR \u001b[38;5;241m=\u001b[39m \u001b[38;5;124mf\u001b[39m\u001b[38;5;124m'\u001b[39m\u001b[38;5;124m../tensors\u001b[39m\u001b[38;5;124m'\u001b[39m\n\u001b[1;32m      5\u001b[0m HERTZ \u001b[38;5;241m=\u001b[39m \u001b[38;5;241m100\u001b[39m\n\u001b[0;32m----> 6\u001b[0m WINDOW_LENGTH \u001b[38;5;241m=\u001b[39m \u001b[38;5;241m3\u001b[39m \u001b[38;5;241m*\u001b[39m \u001b[43mH\u001b[49m\n\u001b[1;32m      8\u001b[0m ACTIVITY_NAME_TO_CLASS_INDEX_MAPPING \u001b[38;5;241m=\u001b[39m {\n\u001b[1;32m      9\u001b[0m     \u001b[38;5;124m'\u001b[39m\u001b[38;5;124mwater\u001b[39m\u001b[38;5;124m'\u001b[39m:\u001b[38;5;241m0\u001b[39m,\n\u001b[1;32m     10\u001b[0m     \u001b[38;5;124m'\u001b[39m\u001b[38;5;124mlisterine\u001b[39m\u001b[38;5;124m'\u001b[39m:\u001b[38;5;241m1\u001b[39m,\n\u001b[1;32m     11\u001b[0m }\n",
      "\u001b[0;31mNameError\u001b[0m: name 'H' is not defined"
     ]
    }
   ],
   "source": [
    "LABELS_DIR = f'../processed/3_final'\n",
    "\n",
    "TENSOR_DIR = f'../tensors'\n",
    "\n",
    "HERTZ = 100\n",
    "WINDOW_LENGTH = 3 * HERTZ\n",
    "\n",
    "ACTIVITY_NAME_TO_CLASS_INDEX_MAPPING = {\n",
    "    'water':0,\n",
    "    'listerine':1,\n",
    "}"
   ]
  },
  {
   "cell_type": "code",
   "execution_count": 173,
   "metadata": {},
   "outputs": [],
   "source": [
    "def to_final(start_idx, end_idx, label, X):\n",
    "    samples = np.empty((0, (WINDOW_LENGTH*3) + 1), dtype=X.dtype)  # Initialize samples with the correct shape and data type\n",
    "\n",
    "    for i in range(round(start_idx+0.6), round(end_idx-WINDOW_LENGTH-0.6)):\n",
    "        sample = X[i:i+WINDOW_LENGTH].T.flatten()\n",
    "        sample = np.append(sample, label)\n",
    "        samples = np.vstack((samples, sample))  # Add the sample as a new row\n",
    "\n",
    "    #print(f'{X.shape} shape: {samples.shape} \\n')\n",
    "    return samples"
   ]
  },
  {
   "cell_type": "code",
   "execution_count": 174,
   "metadata": {},
   "outputs": [],
   "source": [
    "def json_to_final(labels, acc):\n",
    "    arr = np.array((0, (WINDOW_LENGTH*3)+1))\n",
    "    print(f'{arr.shape}\\n\\n')\n",
    "\n",
    "    for hand in labels:\n",
    "        for action in labels[hand]:\n",
    "            for bout in labels[hand][action]:\n",
    "                index = acc[(acc.timestamp > bout['start']) & (acc.timestamp < bout['end'])].index\n",
    "                if len(index) > 0:\n",
    "                    start_idx = index[0]\n",
    "                    end_idx = index[-1]\n",
    "                    X = acc[['x','y','z']].values\n",
    "                    rows = to_final(start_idx, end_idx, label=ACTIVITY_NAME_TO_CLASS_INDEX_MAPPING[action], X=X)\n",
    "                    if rows.size != 0:\n",
    "                        print(arr.shape,'  ',rows.shape)\n",
    "                        arr = np.vstack((arr, rows))\n",
    "\n",
    "\n",
    "    return arr[:, :-1], arr[:, -1]\n"
   ]
  },
  {
   "cell_type": "code",
   "execution_count": 175,
   "metadata": {},
   "outputs": [],
   "source": [
    "def json_to_tensor(json_file_path, acc_file_path):\n",
    "    with open(json_file_path, 'r') as f:\n",
    "        j_labels = json.load(f)\n",
    "\n",
    "    acc = pd.read_csv(acc_file_path,skiprows=1)\n",
    "    acc.timestamp = (acc.timestamp - acc.timestamp[0]) * 1e-9\n",
    "\n",
    "    X, y = json_to_final(j_labels, acc, WINDOW_LENGTH)\n",
    "    print(f'shape: {X.shape}  y: {y.shape}')\n",
    "\n",
    "    return 5, 5\n",
    "\n",
    "\n"
   ]
  },
  {
   "cell_type": "code",
   "execution_count": 176,
   "metadata": {},
   "outputs": [
    {
     "name": "stdout",
     "output_type": "stream",
     "text": [
      "(2,)\n",
      "\n",
      "\n",
      "(2,)    (457, 901)\n"
     ]
    },
    {
     "ename": "ValueError",
     "evalue": "all the input array dimensions except for the concatenation axis must match exactly, but along dimension 1, the array at index 0 has size 2 and the array at index 1 has size 901",
     "output_type": "error",
     "traceback": [
      "\u001b[0;31m---------------------------------------------------------------------------\u001b[0m",
      "\u001b[0;31mValueError\u001b[0m                                Traceback (most recent call last)",
      "Cell \u001b[0;32mIn[176], line 10\u001b[0m\n\u001b[1;32m      8\u001b[0m label_path \u001b[38;5;241m=\u001b[39m recordings\u001b[38;5;241m+\u001b[39m\u001b[38;5;124mf\u001b[39m\u001b[38;5;124m'\u001b[39m\u001b[38;5;124m/\u001b[39m\u001b[38;5;132;01m{\u001b[39;00mrecording\u001b[38;5;132;01m}\u001b[39;00m\u001b[38;5;124m/labels.json\u001b[39m\u001b[38;5;124m'\u001b[39m\n\u001b[1;32m      9\u001b[0m acc_path \u001b[38;5;241m=\u001b[39m recordings\u001b[38;5;241m+\u001b[39m\u001b[38;5;124mf\u001b[39m\u001b[38;5;124m'\u001b[39m\u001b[38;5;124m/\u001b[39m\u001b[38;5;132;01m{\u001b[39;00mrecording\u001b[38;5;132;01m}\u001b[39;00m\u001b[38;5;124m/acceleration.csv\u001b[39m\u001b[38;5;124m'\u001b[39m\n\u001b[0;32m---> 10\u001b[0m \u001b[43mjson_to_tensor\u001b[49m\u001b[43m(\u001b[49m\u001b[43mlabel_path\u001b[49m\u001b[43m,\u001b[49m\u001b[43m \u001b[49m\u001b[43macc_path\u001b[49m\u001b[43m)\u001b[49m\n\u001b[1;32m     11\u001b[0m \u001b[38;5;66;03m#turn each one into a tensor\u001b[39;00m\n\u001b[1;32m     12\u001b[0m \u001b[38;5;66;03m#save each one the tensor dir\u001b[39;00m\n",
      "Cell \u001b[0;32mIn[175], line 8\u001b[0m, in \u001b[0;36mjson_to_tensor\u001b[0;34m(json_file_path, acc_file_path)\u001b[0m\n\u001b[1;32m      5\u001b[0m acc \u001b[38;5;241m=\u001b[39m pd\u001b[38;5;241m.\u001b[39mread_csv(acc_file_path,skiprows\u001b[38;5;241m=\u001b[39m\u001b[38;5;241m1\u001b[39m)\n\u001b[1;32m      6\u001b[0m acc\u001b[38;5;241m.\u001b[39mtimestamp \u001b[38;5;241m=\u001b[39m (acc\u001b[38;5;241m.\u001b[39mtimestamp \u001b[38;5;241m-\u001b[39m acc\u001b[38;5;241m.\u001b[39mtimestamp[\u001b[38;5;241m0\u001b[39m]) \u001b[38;5;241m*\u001b[39m \u001b[38;5;241m1e-9\u001b[39m\n\u001b[0;32m----> 8\u001b[0m X, y \u001b[38;5;241m=\u001b[39m \u001b[43mjson_to_final\u001b[49m\u001b[43m(\u001b[49m\u001b[43mj_labels\u001b[49m\u001b[43m,\u001b[49m\u001b[43m \u001b[49m\u001b[43macc\u001b[49m\u001b[43m,\u001b[49m\u001b[43m \u001b[49m\u001b[43mWINDOW_LENGTH\u001b[49m\u001b[43m)\u001b[49m\n\u001b[1;32m      9\u001b[0m \u001b[38;5;28mprint\u001b[39m(\u001b[38;5;124mf\u001b[39m\u001b[38;5;124m'\u001b[39m\u001b[38;5;124mshape: \u001b[39m\u001b[38;5;132;01m{\u001b[39;00mX\u001b[38;5;241m.\u001b[39mshape\u001b[38;5;132;01m}\u001b[39;00m\u001b[38;5;124m  y: \u001b[39m\u001b[38;5;132;01m{\u001b[39;00my\u001b[38;5;241m.\u001b[39mshape\u001b[38;5;132;01m}\u001b[39;00m\u001b[38;5;124m'\u001b[39m)\n\u001b[1;32m     11\u001b[0m \u001b[38;5;28;01mreturn\u001b[39;00m \u001b[38;5;241m5\u001b[39m, \u001b[38;5;241m5\u001b[39m\n",
      "Cell \u001b[0;32mIn[174], line 16\u001b[0m, in \u001b[0;36mjson_to_final\u001b[0;34m(labels, acc, window_length)\u001b[0m\n\u001b[1;32m     14\u001b[0m                 \u001b[38;5;28;01mif\u001b[39;00m rows\u001b[38;5;241m.\u001b[39msize \u001b[38;5;241m!=\u001b[39m \u001b[38;5;241m0\u001b[39m:\n\u001b[1;32m     15\u001b[0m                     \u001b[38;5;28mprint\u001b[39m(arr\u001b[38;5;241m.\u001b[39mshape,\u001b[38;5;124m'\u001b[39m\u001b[38;5;124m  \u001b[39m\u001b[38;5;124m'\u001b[39m,rows\u001b[38;5;241m.\u001b[39mshape)\n\u001b[0;32m---> 16\u001b[0m                     arr \u001b[38;5;241m=\u001b[39m \u001b[43mnp\u001b[49m\u001b[38;5;241;43m.\u001b[39;49m\u001b[43mvstack\u001b[49m\u001b[43m(\u001b[49m\u001b[43m(\u001b[49m\u001b[43marr\u001b[49m\u001b[43m,\u001b[49m\u001b[43m \u001b[49m\u001b[43mrows\u001b[49m\u001b[43m)\u001b[49m\u001b[43m)\u001b[49m\n\u001b[1;32m     19\u001b[0m \u001b[38;5;28;01mreturn\u001b[39;00m arr[:, :\u001b[38;5;241m-\u001b[39m\u001b[38;5;241m1\u001b[39m], arr[:, \u001b[38;5;241m-\u001b[39m\u001b[38;5;241m1\u001b[39m]\n",
      "File \u001b[0;32m/Library/Frameworks/Python.framework/Versions/3.11/lib/python3.11/site-packages/numpy/core/shape_base.py:289\u001b[0m, in \u001b[0;36mvstack\u001b[0;34m(tup, dtype, casting)\u001b[0m\n\u001b[1;32m    287\u001b[0m \u001b[38;5;28;01mif\u001b[39;00m \u001b[38;5;129;01mnot\u001b[39;00m \u001b[38;5;28misinstance\u001b[39m(arrs, \u001b[38;5;28mlist\u001b[39m):\n\u001b[1;32m    288\u001b[0m     arrs \u001b[38;5;241m=\u001b[39m [arrs]\n\u001b[0;32m--> 289\u001b[0m \u001b[38;5;28;01mreturn\u001b[39;00m \u001b[43m_nx\u001b[49m\u001b[38;5;241;43m.\u001b[39;49m\u001b[43mconcatenate\u001b[49m\u001b[43m(\u001b[49m\u001b[43marrs\u001b[49m\u001b[43m,\u001b[49m\u001b[43m \u001b[49m\u001b[38;5;241;43m0\u001b[39;49m\u001b[43m,\u001b[49m\u001b[43m \u001b[49m\u001b[43mdtype\u001b[49m\u001b[38;5;241;43m=\u001b[39;49m\u001b[43mdtype\u001b[49m\u001b[43m,\u001b[49m\u001b[43m \u001b[49m\u001b[43mcasting\u001b[49m\u001b[38;5;241;43m=\u001b[39;49m\u001b[43mcasting\u001b[49m\u001b[43m)\u001b[49m\n",
      "\u001b[0;31mValueError\u001b[0m: all the input array dimensions except for the concatenation axis must match exactly, but along dimension 1, the array at index 0 has size 2 and the array at index 1 has size 901"
     ]
    }
   ],
   "source": [
    "#open the labels from the processed file assumming you are in utils eg( ../processed/3_final/00/2024-01-06_14_29_18/labels.json )\n",
    "for participant in sorted(os.listdir(LABELS_DIR)):\n",
    "    if participant != '.DS_Store':\n",
    "        sesions = []\n",
    "        recordings = LABELS_DIR+f'/{participant}'\n",
    "        for recording in sorted(os.listdir(recordings)):\n",
    "            if recording != '.DS_Store':\n",
    "                label_path = recordings+f'/{recording}/labels.json'\n",
    "                acc_path = recordings+f'/{recording}/acceleration.csv'\n",
    "                json_to_tensor(label_path, acc_path)\n",
    "                #turn each one into a tensor\n",
    "                #save each one the tensor dir\n"
   ]
  },
  {
   "cell_type": "code",
   "execution_count": null,
   "metadata": {},
   "outputs": [],
   "source": [
    "\n",
    "acc = pd.read_csv('../processed/3_final/00/2024-01-06_14_29_18/acceleration.csv',skiprows=1)"
   ]
  },
  {
   "cell_type": "code",
   "execution_count": null,
   "metadata": {},
   "outputs": [],
   "source": [
    "acc.timestamp = (acc.timestamp - acc.timestamp[0]) * 1e-9\n",
    "acc"
   ]
  },
  {
   "cell_type": "code",
   "execution_count": null,
   "metadata": {},
   "outputs": [],
   "source": [
    "X = acc[['x','y','z']].values\n"
   ]
  },
  {
   "cell_type": "code",
   "execution_count": null,
   "metadata": {},
   "outputs": [],
   "source": [
    "X[0:15].T"
   ]
  },
  {
   "cell_type": "code",
   "execution_count": null,
   "metadata": {},
   "outputs": [],
   "source": [
    "len(X.T.flatten())"
   ]
  },
  {
   "cell_type": "code",
   "execution_count": null,
   "metadata": {},
   "outputs": [],
   "source": []
  }
 ],
 "metadata": {
  "kernelspec": {
   "display_name": "Python 3",
   "language": "python",
   "name": "python3"
  },
  "language_info": {
   "codemirror_mode": {
    "name": "ipython",
    "version": 3
   },
   "file_extension": ".py",
   "mimetype": "text/x-python",
   "name": "python",
   "nbconvert_exporter": "python",
   "pygments_lexer": "ipython3",
   "version": "3.11.5"
  }
 },
 "nbformat": 4,
 "nbformat_minor": 2
}
