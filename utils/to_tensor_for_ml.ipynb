{
 "cells": [
  {
   "cell_type": "code",
   "execution_count": 244,
   "metadata": {},
   "outputs": [],
   "source": [
    "import torch\n",
    "import os\n",
    "import json\n",
    "import pandas as pd\n",
    "import numpy as np\n",
    "import pathlib"
   ]
  },
  {
   "cell_type": "code",
   "execution_count": 245,
   "metadata": {},
   "outputs": [],
   "source": [
    "LABELS_DIR = f'../processed/3_final'\n",
    "\n",
    "TENSOR_DIR = f'../tensors'\n",
    "\n",
    "HERTZ = 100\n",
    "WINDOW_LENGTH = 3 * HERTZ\n",
    "\n",
    "ACTIVITY_NAME_TO_CLASS_INDEX_MAPPING = {\n",
    "    'water':0,\n",
    "    'listerine':1,\n",
    "}"
   ]
  },
  {
   "cell_type": "code",
   "execution_count": 246,
   "metadata": {},
   "outputs": [],
   "source": [
    "def to_final(start_idx, end_idx, label, X):\n",
    "    samples = np.empty((0, (WINDOW_LENGTH*3) + 1), dtype=X.dtype)  # Initialize samples with the correct shape and data type\n",
    "\n",
    "    for i in range(round(start_idx+0.6), round(end_idx-WINDOW_LENGTH-0.6)):\n",
    "        sample = X[i:i+WINDOW_LENGTH].T.flatten()\n",
    "        sample = np.append(sample, label)\n",
    "        samples = np.vstack((samples, sample))  # Add the sample as a new row\n",
    "\n",
    "    #print(f'{X.shape} shape: {samples.shape} \\n')\n",
    "    return samples"
   ]
  },
  {
   "cell_type": "code",
   "execution_count": 247,
   "metadata": {},
   "outputs": [],
   "source": [
    "def json_to_final(labels, acc):\n",
    "    arr = np.empty((0, (WINDOW_LENGTH*3) +1))\n",
    "\n",
    "    for hand in labels:\n",
    "        for action in labels[hand]:\n",
    "            for bout in labels[hand][action]:\n",
    "                index = acc[(acc.timestamp > bout['start']) & (acc.timestamp < bout['end'])].index\n",
    "                if len(index) > 0:\n",
    "                    start_idx = index[0]\n",
    "                    end_idx = index[-1]\n",
    "                    X = acc[['x','y','z']].values\n",
    "                    rows = to_final(start_idx, end_idx, label=ACTIVITY_NAME_TO_CLASS_INDEX_MAPPING[action], X=X)\n",
    "                    if rows.size != 0:\n",
    "                        arr = np.vstack((arr, rows))\n",
    "\n",
    "\n",
    "    return arr[:, :-1], arr[:, -1]\n"
   ]
  },
  {
   "cell_type": "code",
   "execution_count": 248,
   "metadata": {},
   "outputs": [],
   "source": [
    "def json_to_tensor(json_file_path, acc_file_path):\n",
    "    with open(json_file_path, 'r') as f:\n",
    "        j_labels = json.load(f)\n",
    "\n",
    "    acc = pd.read_csv(acc_file_path,skiprows=1)\n",
    "    acc.timestamp = (acc.timestamp - acc.timestamp[0]) * 1e-9\n",
    "\n",
    "    X, y = json_to_final(j_labels, acc)\n",
    "    X_tenor = torch.tensor(X)\n",
    "    y_tensor = torch.tensor(y)\n",
    "\n",
    "    return X_tenor, y_tensor\n",
    "\n",
    "\n"
   ]
  },
  {
   "cell_type": "code",
   "execution_count": 249,
   "metadata": {},
   "outputs": [],
   "source": [
    "def save(X, y, participant_id, session_id):\n",
    "\n",
    "    # Define the base directory\n",
    "    base_dir = pathlib.Path(TENSOR_DIR)\n",
    "\n",
    "    # Create the participant and session directories if they don't exist\n",
    "    participant_dir = base_dir / str(participant_id)\n",
    "    participant_dir.mkdir(parents=True, exist_ok=True)\n",
    "    session_dir = participant_dir / str(session_id)\n",
    "    session_dir.mkdir(exist_ok=True)\n",
    "\n",
    "    # Convert X and y to PyTorch tensors if they aren't already\n",
    "    if not isinstance(X, torch.Tensor):\n",
    "        ValueError('X is not a tensor')\n",
    "    if not isinstance(y, torch.Tensor):\n",
    "        ValueError('y is not a tensor')\n",
    "\n",
    "    # Save X and y as separate PyTorch tensors\n",
    "    X_path = session_dir / 'X.pt'\n",
    "    y_path = session_dir / 'y.pt'\n",
    "    torch.save(X, X_path)\n",
    "    torch.save(y, y_path)\n",
    "    "
   ]
  },
  {
   "cell_type": "code",
   "execution_count": 250,
   "metadata": {},
   "outputs": [],
   "source": [
    "#open the labels from the processed file assumming you are in utils eg( ../processed/3_final/00/2024-01-06_14_29_18/labels.json )\n",
    "for participant in sorted(os.listdir(LABELS_DIR)):\n",
    "    if participant != '.DS_Store':\n",
    "        sesions = []\n",
    "        recordings = LABELS_DIR+f'/{participant}'\n",
    "        for i,recording in enumerate(sorted(os.listdir(recordings))):\n",
    "            if recording != '.DS_Store':\n",
    "                label_path = recordings+f'/{recording}/labels.json'\n",
    "                acc_path = recordings+f'/{recording}/acceleration.csv'\n",
    "\n",
    "                #turn each one into a tensor\n",
    "                X, y = json_to_tensor(label_path, acc_path)\n",
    "                \n",
    "                #save each one the tensor dir\n",
    "                save(X, y, participant_id=participant, session_id=i)\n"
   ]
  },
  {
   "cell_type": "code",
   "execution_count": 251,
   "metadata": {},
   "outputs": [],
   "source": [
    "\n",
    "acc = pd.read_csv('../processed/3_final/00/2024-01-06_14_29_18/acceleration.csv',skiprows=1)"
   ]
  },
  {
   "cell_type": "code",
   "execution_count": 252,
   "metadata": {},
   "outputs": [
    {
     "data": {
      "text/html": [
       "<div>\n",
       "<style scoped>\n",
       "    .dataframe tbody tr th:only-of-type {\n",
       "        vertical-align: middle;\n",
       "    }\n",
       "\n",
       "    .dataframe tbody tr th {\n",
       "        vertical-align: top;\n",
       "    }\n",
       "\n",
       "    .dataframe thead th {\n",
       "        text-align: right;\n",
       "    }\n",
       "</style>\n",
       "<table border=\"1\" class=\"dataframe\">\n",
       "  <thead>\n",
       "    <tr style=\"text-align: right;\">\n",
       "      <th></th>\n",
       "      <th>timestamp</th>\n",
       "      <th>x</th>\n",
       "      <th>y</th>\n",
       "      <th>z</th>\n",
       "    </tr>\n",
       "  </thead>\n",
       "  <tbody>\n",
       "    <tr>\n",
       "      <th>0</th>\n",
       "      <td>0.000000</td>\n",
       "      <td>-0.040715</td>\n",
       "      <td>4.313430</td>\n",
       "      <td>8.866363</td>\n",
       "    </tr>\n",
       "    <tr>\n",
       "      <th>1</th>\n",
       "      <td>0.028790</td>\n",
       "      <td>0.098196</td>\n",
       "      <td>3.985313</td>\n",
       "      <td>8.938213</td>\n",
       "    </tr>\n",
       "    <tr>\n",
       "      <th>2</th>\n",
       "      <td>0.038399</td>\n",
       "      <td>0.002395</td>\n",
       "      <td>4.129014</td>\n",
       "      <td>8.945398</td>\n",
       "    </tr>\n",
       "    <tr>\n",
       "      <th>3</th>\n",
       "      <td>0.047911</td>\n",
       "      <td>-0.045505</td>\n",
       "      <td>4.224814</td>\n",
       "      <td>8.950189</td>\n",
       "    </tr>\n",
       "    <tr>\n",
       "      <th>4</th>\n",
       "      <td>0.057494</td>\n",
       "      <td>0.007185</td>\n",
       "      <td>4.210445</td>\n",
       "      <td>8.909473</td>\n",
       "    </tr>\n",
       "    <tr>\n",
       "      <th>...</th>\n",
       "      <td>...</td>\n",
       "      <td>...</td>\n",
       "      <td>...</td>\n",
       "      <td>...</td>\n",
       "    </tr>\n",
       "    <tr>\n",
       "      <th>75749</th>\n",
       "      <td>723.970684</td>\n",
       "      <td>-1.896856</td>\n",
       "      <td>4.224814</td>\n",
       "      <td>8.600515</td>\n",
       "    </tr>\n",
       "    <tr>\n",
       "      <th>75750</th>\n",
       "      <td>723.980232</td>\n",
       "      <td>-1.872905</td>\n",
       "      <td>4.239185</td>\n",
       "      <td>8.600515</td>\n",
       "    </tr>\n",
       "    <tr>\n",
       "      <th>75751</th>\n",
       "      <td>723.989789</td>\n",
       "      <td>-1.834585</td>\n",
       "      <td>4.251160</td>\n",
       "      <td>8.674761</td>\n",
       "    </tr>\n",
       "    <tr>\n",
       "      <th>75752</th>\n",
       "      <td>723.999346</td>\n",
       "      <td>-1.762734</td>\n",
       "      <td>4.239185</td>\n",
       "      <td>8.667576</td>\n",
       "    </tr>\n",
       "    <tr>\n",
       "      <th>75753</th>\n",
       "      <td>724.008903</td>\n",
       "      <td>-1.669329</td>\n",
       "      <td>4.378096</td>\n",
       "      <td>8.626861</td>\n",
       "    </tr>\n",
       "  </tbody>\n",
       "</table>\n",
       "<p>75754 rows × 4 columns</p>\n",
       "</div>"
      ],
      "text/plain": [
       "        timestamp         x         y         z\n",
       "0        0.000000 -0.040715  4.313430  8.866363\n",
       "1        0.028790  0.098196  3.985313  8.938213\n",
       "2        0.038399  0.002395  4.129014  8.945398\n",
       "3        0.047911 -0.045505  4.224814  8.950189\n",
       "4        0.057494  0.007185  4.210445  8.909473\n",
       "...           ...       ...       ...       ...\n",
       "75749  723.970684 -1.896856  4.224814  8.600515\n",
       "75750  723.980232 -1.872905  4.239185  8.600515\n",
       "75751  723.989789 -1.834585  4.251160  8.674761\n",
       "75752  723.999346 -1.762734  4.239185  8.667576\n",
       "75753  724.008903 -1.669329  4.378096  8.626861\n",
       "\n",
       "[75754 rows x 4 columns]"
      ]
     },
     "execution_count": 252,
     "metadata": {},
     "output_type": "execute_result"
    }
   ],
   "source": [
    "acc.timestamp = (acc.timestamp - acc.timestamp[0]) * 1e-9\n",
    "acc"
   ]
  },
  {
   "cell_type": "code",
   "execution_count": 253,
   "metadata": {},
   "outputs": [],
   "source": [
    "X = acc[['x','y','z']].values\n"
   ]
  },
  {
   "cell_type": "code",
   "execution_count": 254,
   "metadata": {},
   "outputs": [
    {
     "data": {
      "text/plain": [
       "array([[-4.0715333e-02,  9.8195806e-02,  2.3950196e-03, -4.5505375e-02,\n",
       "         7.1850587e-03, -2.3950196e-03,  0.0000000e+00,  3.8320314e-02,\n",
       "         4.0715333e-02,  9.5800790e-03,  2.1555176e-02,  3.1135255e-02,\n",
       "         1.6765138e-02,  3.5925295e-02,  3.5925295e-02],\n",
       "       [ 4.3134303e+00,  3.9853127e+00,  4.1290140e+00,  4.2248144e+00,\n",
       "         4.2104445e+00,  4.2104445e+00,  4.2822950e+00,  4.3182206e+00,\n",
       "         4.2870850e+00,  4.2104445e+00,  4.1697290e+00,  4.2367897e+00,\n",
       "         4.2822950e+00,  4.2727150e+00,  4.2775050e+00],\n",
       "       [ 8.8663630e+00,  8.9382130e+00,  8.9453980e+00,  8.9501890e+00,\n",
       "         8.9094730e+00,  8.8615720e+00,  8.8208570e+00,  8.8208570e+00,\n",
       "         8.8783380e+00,  8.9166580e+00,  8.8951025e+00,  8.8927080e+00,\n",
       "         8.8687570e+00,  8.8208570e+00,  8.8759430e+00]])"
      ]
     },
     "execution_count": 254,
     "metadata": {},
     "output_type": "execute_result"
    }
   ],
   "source": [
    "X[0:15].T"
   ]
  },
  {
   "cell_type": "code",
   "execution_count": 255,
   "metadata": {},
   "outputs": [
    {
     "data": {
      "text/plain": [
       "227262"
      ]
     },
     "execution_count": 255,
     "metadata": {},
     "output_type": "execute_result"
    }
   ],
   "source": [
    "len(X.T.flatten())"
   ]
  },
  {
   "cell_type": "code",
   "execution_count": null,
   "metadata": {},
   "outputs": [],
   "source": []
  }
 ],
 "metadata": {
  "kernelspec": {
   "display_name": "Python 3",
   "language": "python",
   "name": "python3"
  },
  "language_info": {
   "codemirror_mode": {
    "name": "ipython",
    "version": 3
   },
   "file_extension": ".py",
   "mimetype": "text/x-python",
   "name": "python",
   "nbconvert_exporter": "python",
   "pygments_lexer": "ipython3",
   "version": "3.11.5"
  }
 },
 "nbformat": 4,
 "nbformat_minor": 2
}
