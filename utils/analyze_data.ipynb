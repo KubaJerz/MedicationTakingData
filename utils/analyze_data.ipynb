{
 "cells": [
  {
   "cell_type": "code",
   "execution_count": 22,
   "metadata": {},
   "outputs": [
    {
     "name": "stdout",
     "output_type": "stream",
     "text": [
      "0 ---- 2024-01-06_15_13_55 ---- 0.07 hours\n",
      "1 ---- 2024-01-06_20_14_14 ---- 0.13 hours\n",
      "2 ---- 2024-01-08_15_18_08 ---- 0.13 hours\n",
      "3 ---- 2024-02-07_11_40_49 ---- 0.37 hours\n",
      "4 ---- 2024-02-07_16_02_36 ---- 0.16 hours\n",
      "5 ---- 2024-02-12_11_00_52 ---- 0.10 hours\n",
      "6 ---- 2024-02-12_16_01_14 ---- 0.11 hours\n",
      "7 ---- 2024-02-13_18_00_28 ---- 0.10 hours\n",
      "8 ---- 2024-02-14_11_07_00 ---- 0.19 hours\n",
      "9 ---- 2024-02-14_16_02_43 ---- 0.12 hours\n"
     ]
    }
   ],
   "source": [
    "import pandas as pd\n",
    "import os\n",
    "import time\n",
    "import datetime\n",
    "import plotly.express as px\n",
    "PROJECT_DIR = f'./2_removed_empty/0'\n",
    "recordings = sorted(os.listdir(PROJECT_DIR))\n",
    "for i,recording in enumerate(recordings):\n",
    "    RECORDING_DIR = f'{PROJECT_DIR}/{recording}'\n",
    "    fs = 100\n",
    "    acceleration = pd.read_csv(f'{RECORDING_DIR}/acceleration.csv',skiprows=1)\n",
    "    gyroscope = pd.read_csv(f'{RECORDING_DIR}/gyroscope.csv',skiprows=1)\n",
    "    length_samples = len(acceleration)\n",
    "    length_seconds = length_samples/fs\n",
    "    length_minutes = length_seconds/60\n",
    "    length_hours = length_minutes/60\n",
    "    print(i,'----',recording,'----',f'{length_hours:.2f} hours')"
   ]
  },
  {
   "cell_type": "code",
   "execution_count": 29,
   "metadata": {},
   "outputs": [],
   "source": [
    "import json"
   ]
  },
  {
   "cell_type": "code",
   "execution_count": 40,
   "metadata": {},
   "outputs": [],
   "source": [
    "with open(f'{PROJECT_DIR}/2024-01-06_15_13_55/labels.json','r') as f:\n",
    "    labels = json.load(f)"
   ]
  },
  {
   "cell_type": "code",
   "execution_count": 41,
   "metadata": {},
   "outputs": [
    {
     "data": {
      "text/plain": [
       "{'left': {'water': [{'start': 455, 'end': 1075}, {'start': 1411, 'end': 1873}],\n",
       "  'listerine': [{'start': 5780, 'end': 6268}]},\n",
       " 'right': {}}"
      ]
     },
     "execution_count": 41,
     "metadata": {},
     "output_type": "execute_result"
    }
   ],
   "source": [
    "labels"
   ]
  },
  {
   "cell_type": "code",
   "execution_count": 52,
   "metadata": {},
   "outputs": [],
   "source": [
    "import numpy as np\n",
    "label_vector = np.zeros(len(acceleration))\n",
    "for gesture in labels['left']['water']:\n",
    "    label_vector[gesture['start']:gesture['end']] = 10\n",
    "for gesture in labels['left']['listerine']:\n",
    "    label_vector[gesture['start']:gesture['end']] = 20"
   ]
  },
  {
   "cell_type": "code",
   "execution_count": 53,
   "metadata": {},
   "outputs": [],
   "source": [
    "acceleration = pd.read_csv(f'{PROJECT_DIR}/2024-01-06_15_13_55/acceleration.csv',skiprows=1)"
   ]
  },
  {
   "cell_type": "code",
   "execution_count": 54,
   "metadata": {},
   "outputs": [],
   "source": [
    "acceleration['label'] = label_vector"
   ]
  },
  {
   "cell_type": "code",
   "execution_count": 55,
   "metadata": {},
   "outputs": [
    {
     "data": {
      "text/plain": [
       "0.0     24804\n",
       "10.0     1082\n",
       "20.0      488\n",
       "Name: label, dtype: int64"
      ]
     },
     "execution_count": 55,
     "metadata": {},
     "output_type": "execute_result"
    }
   ],
   "source": [
    "acceleration['label'].value_counts()"
   ]
  },
  {
   "cell_type": "code",
   "execution_count": 56,
   "metadata": {},
   "outputs": [],
   "source": [
    "fig = px.line(data_frame=acceleration,y=['x','y','z','label'])\n",
    "fig.show(renderer='browser')"
   ]
  },
  {
   "cell_type": "code",
   "execution_count": 66,
   "metadata": {},
   "outputs": [],
   "source": [
    "acceleration\n",
    "import torch\n",
    "torch.save(torch.from_numpy(acceleration.values).float(),'0.pt')"
   ]
  },
  {
   "cell_type": "code",
   "execution_count": 58,
   "metadata": {},
   "outputs": [],
   "source": [
    "gyroscope = pd.read_csv(f'{PROJECT_DIR}/2024-01-06_15_13_55/gyroscope.csv',skiprows=1)"
   ]
  },
  {
   "cell_type": "code",
   "execution_count": 59,
   "metadata": {},
   "outputs": [
    {
     "data": {
      "text/html": [
       "<div>\n",
       "<style scoped>\n",
       "    .dataframe tbody tr th:only-of-type {\n",
       "        vertical-align: middle;\n",
       "    }\n",
       "\n",
       "    .dataframe tbody tr th {\n",
       "        vertical-align: top;\n",
       "    }\n",
       "\n",
       "    .dataframe thead th {\n",
       "        text-align: right;\n",
       "    }\n",
       "</style>\n",
       "<table border=\"1\" class=\"dataframe\">\n",
       "  <thead>\n",
       "    <tr style=\"text-align: right;\">\n",
       "      <th></th>\n",
       "      <th>timestamp</th>\n",
       "      <th>x</th>\n",
       "      <th>y</th>\n",
       "      <th>z</th>\n",
       "    </tr>\n",
       "  </thead>\n",
       "  <tbody>\n",
       "    <tr>\n",
       "      <th>0</th>\n",
       "      <td>40805186298</td>\n",
       "      <td>0.511905</td>\n",
       "      <td>0.753807</td>\n",
       "      <td>0.114843</td>\n",
       "    </tr>\n",
       "    <tr>\n",
       "      <th>1</th>\n",
       "      <td>40814758826</td>\n",
       "      <td>0.531453</td>\n",
       "      <td>0.704938</td>\n",
       "      <td>0.108734</td>\n",
       "    </tr>\n",
       "    <tr>\n",
       "      <th>2</th>\n",
       "      <td>40824131850</td>\n",
       "      <td>0.513127</td>\n",
       "      <td>0.679282</td>\n",
       "      <td>0.199142</td>\n",
       "    </tr>\n",
       "    <tr>\n",
       "      <th>3</th>\n",
       "      <td>40833689642</td>\n",
       "      <td>0.312763</td>\n",
       "      <td>0.581543</td>\n",
       "      <td>0.377515</td>\n",
       "    </tr>\n",
       "    <tr>\n",
       "      <th>4</th>\n",
       "      <td>40843247418</td>\n",
       "      <td>0.130725</td>\n",
       "      <td>0.502131</td>\n",
       "      <td>0.498466</td>\n",
       "    </tr>\n",
       "    <tr>\n",
       "      <th>...</th>\n",
       "      <td>...</td>\n",
       "      <td>...</td>\n",
       "      <td>...</td>\n",
       "      <td>...</td>\n",
       "    </tr>\n",
       "    <tr>\n",
       "      <th>26357</th>\n",
       "      <td>292700094183</td>\n",
       "      <td>-2.861292</td>\n",
       "      <td>1.419650</td>\n",
       "      <td>-2.342056</td>\n",
       "    </tr>\n",
       "    <tr>\n",
       "      <th>26358</th>\n",
       "      <td>292709648065</td>\n",
       "      <td>-2.583959</td>\n",
       "      <td>1.534493</td>\n",
       "      <td>-2.228435</td>\n",
       "    </tr>\n",
       "    <tr>\n",
       "      <th>26359</th>\n",
       "      <td>292719204545</td>\n",
       "      <td>-2.162462</td>\n",
       "      <td>1.481958</td>\n",
       "      <td>-1.991420</td>\n",
       "    </tr>\n",
       "    <tr>\n",
       "      <th>26360</th>\n",
       "      <td>292728760897</td>\n",
       "      <td>-1.841147</td>\n",
       "      <td>1.508837</td>\n",
       "      <td>-1.955990</td>\n",
       "    </tr>\n",
       "    <tr>\n",
       "      <th>26361</th>\n",
       "      <td>292738317377</td>\n",
       "      <td>-1.653001</td>\n",
       "      <td>1.356120</td>\n",
       "      <td>-1.832595</td>\n",
       "    </tr>\n",
       "  </tbody>\n",
       "</table>\n",
       "<p>26362 rows × 4 columns</p>\n",
       "</div>"
      ],
      "text/plain": [
       "          timestamp         x         y         z\n",
       "0       40805186298  0.511905  0.753807  0.114843\n",
       "1       40814758826  0.531453  0.704938  0.108734\n",
       "2       40824131850  0.513127  0.679282  0.199142\n",
       "3       40833689642  0.312763  0.581543  0.377515\n",
       "4       40843247418  0.130725  0.502131  0.498466\n",
       "...             ...       ...       ...       ...\n",
       "26357  292700094183 -2.861292  1.419650 -2.342056\n",
       "26358  292709648065 -2.583959  1.534493 -2.228435\n",
       "26359  292719204545 -2.162462  1.481958 -1.991420\n",
       "26360  292728760897 -1.841147  1.508837 -1.955990\n",
       "26361  292738317377 -1.653001  1.356120 -1.832595\n",
       "\n",
       "[26362 rows x 4 columns]"
      ]
     },
     "execution_count": 59,
     "metadata": {},
     "output_type": "execute_result"
    }
   ],
   "source": [
    "gyroscope"
   ]
  },
  {
   "cell_type": "code",
   "execution_count": null,
   "metadata": {},
   "outputs": [],
   "source": [
    "\n",
    "fig = px.line(data_frame=acceleration,x='timestamp',y=['x','y','z'])\n",
    "fig.show(renderer='browser')"
   ]
  },
  {
   "cell_type": "code",
   "execution_count": 29,
   "metadata": {},
   "outputs": [
    {
     "data": {
      "text/plain": [
       "<Axes: >"
      ]
     },
     "execution_count": 29,
     "metadata": {},
     "output_type": "execute_result"
    },
    {
     "data": {
      "image/png": "[encoded data removed]",
      "text/plain": [
       "<Figure size 640x480 with 1 Axes>"
      ]
     },
     "metadata": {},
     "output_type": "display_data"
    }
   ],
   "source": [
    "((acceleration.timestamp - acceleration.timestamp[0]) / 1e9).plot()"
   ]
  },
  {
   "cell_type": "code",
   "execution_count": 24,
   "metadata": {},
   "outputs": [
    {
     "data": {
      "text/plain": [
       "<Axes: >"
      ]
     },
     "execution_count": 24,
     "metadata": {},
     "output_type": "execute_result"
    },
    {
     "data": {
      "image/png": "[encoded data removed]",
      "text/plain": [
       "<Figure size 640x480 with 1 Axes>"
      ]
     },
     "metadata": {},
     "output_type": "display_data"
    }
   ],
   "source": [
    "acceleration.timestamp.diff().plot()"
   ]
  },
  {
   "cell_type": "code",
   "execution_count": 2,
   "metadata": {},
   "outputs": [
    {
     "name": "stdout",
     "output_type": "stream",
     "text": [
      "---- 2023-01-10_08_31_59 ---- 0.00 hours\n",
      "---- 2023-01-10_08_44_48 ---- 0.00 hours\n",
      "---- 2023-01-10_12_07_53 ---- 0.16 hours\n",
      "---- 2023-01-12_11_38_20 ---- 0.16 hours\n",
      "---- 2023-01-13_09_36_52 ---- 0.10 hours\n",
      "---- 2023-01-14_16_35_51 ---- 0.11 hours\n",
      "---- 2023-01-15_09_42_10 ---- 0.19 hours\n",
      "---- 2023-01-17_12_06_33 ---- 0.10 hours\n",
      "---- 2023-01-19_11_41_20 ---- 0.36 hours\n",
      "---- 2023-01-19_17_40_51 ---- 0.06 hours\n",
      "---- 2023-01-19_17_44_12 ---- 0.06 hours\n",
      "---- 2023-01-20_09_37_06 ---- 0.10 hours\n",
      "---- 2023-01-22_09_43_07 ---- 0.11 hours\n"
     ]
    }
   ],
   "source": [
    "PROJECT_DIR = f'./ticwatch_e3_0178/files'\n",
    "recordings = sorted(os.listdir(PROJECT_DIR))\n",
    "for recording in recordings:\n",
    "    RECORDING_DIR = f'{PROJECT_DIR}/{recording}'\n",
    "    fs = 100\n",
    "    acceleration = pd.read_csv(f'{RECORDING_DIR}/acceleration.csv',skiprows=1)\n",
    "    gyroscope = pd.read_csv(f'{RECORDING_DIR}/gyroscope.csv',skiprows=1)\n",
    "    length_samples = len(acceleration)\n",
    "    length_seconds = length_samples/fs\n",
    "    length_minutes = length_seconds/60\n",
    "    length_hours = length_minutes/60\n",
    "    print('----',recording,'----',f'{length_hours:.2f} hours')"
   ]
  },
  {
   "cell_type": "code",
   "execution_count": 22,
   "metadata": {},
   "outputs": [],
   "source": [
    "acceleration = pd.read_csv(f'{PROJECT_DIR}/{recordings[11]}/acceleration.csv',skiprows=1)\n",
    "fig = px.line(data_frame=acceleration,y=['x','y','z'])\n",
    "fig.show(renderer='browser')"
   ]
  }
 ],
 "metadata": {
  "kernelspec": {
   "display_name": "Python 3",
   "language": "python",
   "name": "python3"
  },
  "language_info": {
   "codemirror_mode": {
    "name": "ipython",
    "version": 3
   },
   "file_extension": ".py",
   "mimetype": "text/x-python",
   "name": "python",
   "nbconvert_exporter": "python",
   "pygments_lexer": "ipython3",
   "version": "3.11.4"
  }
 },
 "nbformat": 4,
 "nbformat_minor": 2
}
