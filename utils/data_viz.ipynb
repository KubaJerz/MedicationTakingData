{
 "cells": [
  {
   "cell_type": "code",
   "execution_count": 19,
   "metadata": {},
   "outputs": [],
   "source": [
    "theme = 'plotly_dark'\n",
    "#theme = 'seaborn'\n",
    "#theme = 'plotly'"
   ]
  },
  {
   "cell_type": "code",
   "execution_count": 20,
   "metadata": {},
   "outputs": [],
   "source": [
    "import pandas as pd\n",
    "import plotly.express as px\n",
    "import plotly.graph_objects as go\n",
    "import plotly.subplots as sp\n",
    "import re\n",
    "from datetime import datetime\n",
    "import os"
   ]
  },
  {
   "cell_type": "code",
   "execution_count": 21,
   "metadata": {},
   "outputs": [],
   "source": [
    "folderpath_cohort01 = './'\n",
    "#watch02 = 'Watch02_'\n",
    "\n",
    "#folderpath_cohort01 = folderpath_cohort01 + watch02"
   ]
  },
  {
   "cell_type": "code",
   "execution_count": 22,
   "metadata": {},
   "outputs": [],
   "source": [
    "def viz_func_no_time(data_filename):\n",
    "\n",
    "    #parse data\n",
    "    nano_timestamp = pd.read_csv(f'./{data_filename}/acceleration.csv',nrows=0)\n",
    "    acc_data = pd.read_csv(f'./{data_filename}/acceleration.csv',skiprows=1)\n",
    "\n",
    "    '''\n",
    "    unix_timestamp = (re.search(r'\\d+', nano_timestamp.columns[0])).group()\n",
    "    datetime_object = datetime.utcfromtimestamp(int(unix_timestamp) / 1000.0)  # dividing by 1000 to convert milliseconds to seconds\n",
    "\n",
    "    acc_data['timestamp'] = acc_data['timestamp'] - acc_data['timestamp'].iloc[0]\n",
    "    acc_data['timestamp'] = pd.to_timedelta(acc_data['timestamp'].astype(int), unit='ns') + datetime_object\n",
    "    '''\n",
    "    acc_data['timestamp'] = ((acc_data['timestamp'] - acc_data['timestamp'].iloc[0]) / 1e9)\n",
    "    acc_data = acc_data.iloc[::5, :]\n",
    "\n",
    "    #viz data\n",
    "\n",
    "    #acc_len_one_forth  = len(acc_data['y']) // 4\n",
    "    #acc_data = acc_data[:acc_len_one_forth]\n",
    "    fig = px.line(acc_data, x='timestamp', y='x', title=data_filename)\n",
    "    fig.add_trace(go.Scatter(x=acc_data['timestamp'], y=acc_data['y'], mode='lines', name='y'))\n",
    "    fig.add_trace(go.Scatter(x=acc_data['timestamp'], y=acc_data['z'], mode='lines', name='z'))\n",
    "    fig.update_layout(template=theme)\n",
    "\n",
    "    fig.show(renderer='browser')\n",
    "\n",
    "def viz_func(data_filename):\n",
    "\n",
    "    #parse data\n",
    "    nano_timestamp = pd.read_csv(f'{data_filename}/acceleration.csv',nrows=0)\n",
    "    acc_data = pd.read_csv(f'{data_filename}/acceleration.csv',skiprows=1)\n",
    "\n",
    "\n",
    "    unix_timestamp = (re.search(r'\\d+', nano_timestamp.columns[0])).group()\n",
    "    datetime_object = datetime.utcfromtimestamp(int(unix_timestamp) / 1000.0)  # dividing by 1000 to convert milliseconds to seconds\n",
    "\n",
    "    acc_data['timestamp'] = acc_data['timestamp'] - acc_data['timestamp'].iloc[0]\n",
    "    acc_data['timestamp'] = pd.to_timedelta(acc_data['timestamp'].astype(int), unit='ns') + datetime_object\n",
    "    acc_data = acc_data.iloc[::5, :]\n",
    "\n",
    "\n",
    "\n",
    "    #viz data\n",
    "    fig = px.line(acc_data, x='timestamp', y='x', title=data_filename)\n",
    "    fig.add_trace(go.Scatter(x=acc_data['timestamp'], y=acc_data['y'], mode='lines', name='y'))\n",
    "    fig.add_trace(go.Scatter(x=acc_data['timestamp'], y=acc_data['z'], mode='lines', name='z'))\n",
    "    fig.update_layout(template=theme)\n",
    "\n",
    "    fig.show(renderer='browser')\n",
    "\n",
    "def viz_func_in_code(data_filename):\n",
    "\n",
    "    #parse data\n",
    "    nano_timestamp = pd.read_csv(f'./{data_filename}/acceleration.csv',nrows=0)\n",
    "    acc_data = pd.read_csv(f'./{data_filename}/acceleration.csv',skiprows=1)\n",
    "\n",
    "\n",
    "    unix_timestamp = (re.search(r'\\d+', nano_timestamp.columns[0])).group()\n",
    "    datetime_object = datetime.utcfromtimestamp(int(unix_timestamp) / 1000.0)  # dividing by 1000 to convert milliseconds to seconds\n",
    "\n",
    "    acc_data['timestamp'] = acc_data['timestamp'] - acc_data['timestamp'].iloc[0]\n",
    "    acc_data['timestamp'] = pd.to_timedelta(acc_data['timestamp'].astype(int), unit='ns') + datetime_object\n",
    "    acc_data = acc_data.iloc[::5, :]\n",
    "\n",
    "\n",
    "\n",
    "    #viz data\n",
    "    fig = px.line(acc_data, x='timestamp', y='x', title=data_filename)\n",
    "    fig.add_trace(go.Scatter(x=acc_data['timestamp'], y=acc_data['y'], mode='lines', name='y'))\n",
    "    fig.add_trace(go.Scatter(x=acc_data['timestamp'], y=acc_data['z'], mode='lines', name='z'))\n",
    "    fig.update_layout(template=theme)\n",
    "\n",
    "    fig.show()"
   ]
  },
  {
   "cell_type": "code",
   "execution_count": 23,
   "metadata": {},
   "outputs": [],
   "source": [
    "for watch_dir in os.listdir(folderpath_cohort01):\n",
    "    if watch_dir != 'data_viz.ipynb' and watch_dir == '13' :\n",
    "        for file_name in os.listdir(folderpath_cohort01+watch_dir):\n",
    "            if file_name == '2024-01-06_14_58_22_X':\n",
    "                if os.path.isfile(os.path.join(folderpath_cohort01, watch_dir,file_name)+\"/acceleration.csv\"):\n",
    "                    file_path = os.path.join(folderpath_cohort01, watch_dir,file_name)\n",
    "                    viz_func_no_time(file_path)\n"
   ]
  },
  {
   "cell_type": "code",
   "execution_count": 24,
   "metadata": {},
   "outputs": [],
   "source": [
    "#viz_func_in_code('/Cohort01/WatchB_/2024-02-27_15_42_02')\n",
    "\n",
    "#viz_func_in_code('Cohort01/Watch04_OlivaWolverton/2024-03-11_16_04_26')\n",
    "viz_func('/home/kuba/Documents/Data/Raw/Listerine/3_final/03/2023-07-11_07_22_17')\n",
    "\n",
    "\n",
    "#viz_func('Cohort01/Watch02_CarlisleMoser/2010-01-02_23_04_55')\n",
    "\n"
   ]
  }
 ],
 "metadata": {
  "kernelspec": {
   "display_name": "base",
   "language": "python",
   "name": "python3"
  },
  "language_info": {
   "codemirror_mode": {
    "name": "ipython",
    "version": 3
   },
   "file_extension": ".py",
   "mimetype": "text/x-python",
   "name": "python",
   "nbconvert_exporter": "python",
   "pygments_lexer": "ipython3",
   "version": "3.10.12"
  }
 },
 "nbformat": 4,
 "nbformat_minor": 2
}
